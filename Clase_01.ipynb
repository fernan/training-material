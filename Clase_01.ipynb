{
  "nbformat": 4,
  "nbformat_minor": 0,
  "metadata": {
    "colab": {
      "name": "Clase_01.ipynb",
      "provenance": [],
      "collapsed_sections": [],
      "include_colab_link": true
    },
    "kernelspec": {
      "display_name": "Python 3",
      "language": "python",
      "name": "python3"
    },
    "language_info": {
      "codemirror_mode": {
        "name": "ipython",
        "version": 3
      },
      "file_extension": ".py",
      "mimetype": "text/x-python",
      "name": "python",
      "nbconvert_exporter": "python",
      "pygments_lexer": "ipython3",
      "version": "3.8.3"
    },
    "toc": {
      "base_numbering": 1,
      "nav_menu": {},
      "number_sections": true,
      "sideBar": true,
      "skip_h1_title": false,
      "title_cell": "Table of Contents",
      "title_sidebar": "Contents",
      "toc_cell": false,
      "toc_position": {},
      "toc_section_display": true,
      "toc_window_display": false
    }
  },
  "cells": [
    {
      "cell_type": "markdown",
      "metadata": {
        "id": "view-in-github",
        "colab_type": "text"
      },
      "source": [
        "<a href=\"https://colab.research.google.com/github/fernan/training-material/blob/main/Clase_01.ipynb\" target=\"_parent\"><img src=\"https://colab.research.google.com/assets/colab-badge.svg\" alt=\"Open In Colab\"/></a>"
      ]
    },
    {
      "cell_type": "markdown",
      "metadata": {
        "id": "OIHiN71l-V-y"
      },
      "source": [
        "# Clase 1: introducción a Python"
      ]
    },
    {
      "cell_type": "markdown",
      "source": [
        "## Elementos básicos de Python"
      ],
      "metadata": {
        "id": "DhroM0qoytSa"
      }
    },
    {
      "cell_type": "markdown",
      "source": [
        "En su aplicación más básica, podemos usar python como calculadora:"
      ],
      "metadata": {
        "id": "DQfa9KhEkwI9"
      }
    },
    {
      "cell_type": "code",
      "source": [
        "160/15"
      ],
      "metadata": {
        "id": "AXww31vYk8kZ"
      },
      "execution_count": null,
      "outputs": []
    },
    {
      "cell_type": "markdown",
      "source": [
        "Probá ejecutar la celda anterior y ver que pasa.\n",
        "\n",
        "Además de sumas, restas, multiplicación y división es posible hacer operaciones más complejas como:\n",
        "\n",
        "\n",
        "*   Exponenciación: `**`. Este operador eleva el número de la izquierda a la potencia que aparece a su derecha. Por ejemplo `4**2` da como resultado `16`. \n",
        "*   Modulo: `%`. Este operador da como resultado el resto de la división del número a la izquierda con el número a su derecha. Por ejemplo `18 % 7` da `4`. \n",
        "\n"
      ],
      "metadata": {
        "id": "o8vZTqRRiyHn"
      }
    },
    {
      "cell_type": "markdown",
      "source": [
        "La sintaxis de Python es en inglés. Esto implica que tanto funciones (por ejemplo, `abs()`, `help()`, `enumerate()`) como los comandos básicos (`for`, `if`, `while`) se escriben en inglés.\n",
        "\n",
        "La función de ayuda, `help()`, es sumamente útil a la hora de comenzar a usar el lenguaje. La podemos usar para saber qué hacen las distintas funciones y comandos:"
      ],
      "metadata": {
        "id": "cff-ysCGlNOh"
      }
    },
    {
      "cell_type": "code",
      "source": [
        "help('abs')"
      ],
      "metadata": {
        "colab": {
          "base_uri": "https://localhost:8080/"
        },
        "id": "ghpV2g_UmXSW",
        "outputId": "38e741c5-9db8-4847-91dd-44fa0d49dd06"
      },
      "execution_count": null,
      "outputs": [
        {
          "output_type": "stream",
          "name": "stdout",
          "text": [
            "Help on built-in function abs in module builtins:\n",
            "\n",
            "abs(x, /)\n",
            "    Return the absolute value of the argument.\n",
            "\n"
          ]
        }
      ]
    },
    {
      "cell_type": "markdown",
      "source": [
        "### Ejemplo de programa"
      ],
      "metadata": {
        "id": "Rvv0pq8gvKLL"
      }
    },
    {
      "cell_type": "markdown",
      "source": [
        "Antes de pasar a ver los elementos básicos de Python, vemos un ejemplo de un pequeño programa. El mismo está hecho para resolver el siguiente problema:\n",
        "\n",
        "> Una mañana se pone un billete en la vereda al lado del obelisco porteño. A partir de ahí, cada día se duplica la cantidad de billetes que hay, apilándolos prolijamente. ¿Cuánto tiempo pasa antes de que la pila de billetes sea más alta que el obelisco?"
      ],
      "metadata": {
        "id": "4eeBUIlcvUyh"
      }
    },
    {
      "cell_type": "code",
      "source": [
        "# obelisco.py\n",
        "grosor_billete = 0.11 * 0.001  # grosor de un billete en metros\n",
        "altura_obelisco = 67.5         # altura en metros\n",
        "num_billetes = 1\n",
        "dia = 1\n",
        "\n",
        "while num_billetes * grosor_billete <= altura_obelisco:\n",
        "    print(dia, num_billetes, num_billetes * grosor_billete)\n",
        "    dia = dia + 1\n",
        "    num_billetes = num_billetes * 2\n",
        "\n",
        "print('Cantidad de días', dia)\n",
        "print('Cantidad de billetes', num_billetes)\n",
        "print('Altura final', num_billetes * grosor_billete)"
      ],
      "metadata": {
        "id": "cAZBC01dv-2F"
      },
      "execution_count": null,
      "outputs": []
    },
    {
      "cell_type": "markdown",
      "source": [
        "Con este programa como base, veamos los elementos básicos de un código de Python:"
      ],
      "metadata": {
        "id": "5Lj8WNizwY3J"
      }
    },
    {
      "cell_type": "markdown",
      "source": [
        "### Comandos\n",
        "\n",
        "Un programa se Python es una secuencia de comandos:"
      ],
      "metadata": {
        "id": "Ho5blMdXw9v5"
      }
    },
    {
      "cell_type": "code",
      "source": [
        "a = 3 + 4\n",
        "b = a * 3\n",
        "print(b)"
      ],
      "metadata": {
        "id": "y6Y8-mMlxQvz",
        "colab": {
          "base_uri": "https://localhost:8080/"
        },
        "outputId": "7dbae3c0-cf78-4790-ba50-ce7b5c9edf21"
      },
      "execution_count": null,
      "outputs": [
        {
          "output_type": "stream",
          "name": "stdout",
          "text": [
            "21\n"
          ]
        }
      ]
    },
    {
      "cell_type": "markdown",
      "source": [
        "Cada comando se termina con una nueva línea. Los comandos son ejecutados uno luego del otro hasta que el intérprete llega al final."
      ],
      "metadata": {
        "id": "xs7fPl76xSkb"
      }
    },
    {
      "cell_type": "markdown",
      "source": [
        "### Comentarios\n",
        "\n",
        "Los comentarios son texto que no es ejecutado. Los comentarios comienzan con # y siguen hasta el final de la línea."
      ],
      "metadata": {
        "id": "4tO6MCWNxo4G"
      }
    },
    {
      "cell_type": "code",
      "source": [
        "a = 3 + 4\n",
        "# Esto es un comentario.\n",
        "b = a * 3\n",
        "print(b)"
      ],
      "metadata": {
        "id": "SDTUrwOWxyJB"
      },
      "execution_count": null,
      "outputs": []
    },
    {
      "cell_type": "markdown",
      "source": [
        "### Variables\n",
        "\n",
        "Una variable es un nombre para un valor. Estos nombres pueden estar formados por letras (minúsculas y mayúsculas) de la a a la z. También pueden incluir el guión bajo, y se pueden usar números (salvo como primer caracter):"
      ],
      "metadata": {
        "id": "ELSoQJB1x9rm"
      }
    },
    {
      "cell_type": "code",
      "source": [
        "altura = 442 # válido\n",
        "_altura = 442 # válido\n",
        "altura2 = 442 # válido\n",
        "2altura = 442 # inválido"
      ],
      "metadata": {
        "id": "U4C5XH6JyABQ"
      },
      "execution_count": null,
      "outputs": []
    },
    {
      "cell_type": "markdown",
      "source": [
        "### Tipos de variables\n",
        "El tipo de las variables no debe ser declarado como en otros lenguajes de programación. El tipo es asociado con el valor asignado del lado derecho."
      ],
      "metadata": {
        "id": "qjAbjH7oy4Lw"
      }
    },
    {
      "cell_type": "code",
      "source": [
        "altura = 442             # Entero\n",
        "altura = 442.0           # Punto flotante\n",
        "altura = 'Muy, muy alto' # Cadena (string) de caracteres"
      ],
      "metadata": {
        "id": "d_a_fTfgzHGt"
      },
      "execution_count": null,
      "outputs": []
    },
    {
      "cell_type": "markdown",
      "source": [
        "Python tiene asignación de tipos dinámica. El tipo percibido por el intérprete puede cambiar a lo largo de la ejecución dependiendo del valor asignado a la variable."
      ],
      "metadata": {
        "id": "utGwcUC-zg0-"
      }
    },
    {
      "cell_type": "markdown",
      "source": [
        "Otro tipo de variables son las booleanas (Verdadero / Falso), que en Python en inglés son `True` y `False`"
      ],
      "metadata": {
        "id": "bqIbsTJPnxtg"
      }
    },
    {
      "cell_type": "code",
      "source": [
        "es_alto = True   # Boolean, Verdadero\n",
        "es_bajo = False  # Boolean, Falso"
      ],
      "metadata": {
        "id": "zn8K9qrHnf4S"
      },
      "execution_count": null,
      "outputs": []
    },
    {
      "cell_type": "markdown",
      "source": [
        "### Distinción de mayúsculas y minúsculas"
      ],
      "metadata": {
        "id": "aetNH0yPzwMj"
      }
    },
    {
      "cell_type": "markdown",
      "source": [
        "Mayúsculas y minúsculas son diferentes para Python. Por ejemplo, todas las siguientes variables son diferentes."
      ],
      "metadata": {
        "id": "CmgdymWxz3xp"
      }
    },
    {
      "cell_type": "code",
      "source": [
        "nombre = 'Ariel'\n",
        "Nombre = 'Diego'\n",
        "NOMBRE = 'Rosa'"
      ],
      "metadata": {
        "id": "FGH3FT19z7G4"
      },
      "execution_count": null,
      "outputs": []
    },
    {
      "cell_type": "markdown",
      "source": [
        "Los comandos de Python siempre se escriben con **minúsculas**."
      ],
      "metadata": {
        "id": "TmLdjLCy0DCg"
      }
    },
    {
      "cell_type": "code",
      "source": [
        "while x < 0:   # OK\n",
        "WHILE x < 0:   # ERROR"
      ],
      "metadata": {
        "id": "0qnrJ-nb0LCF"
      },
      "execution_count": null,
      "outputs": []
    },
    {
      "cell_type": "markdown",
      "source": [
        "### Ciclos o bucles"
      ],
      "metadata": {
        "id": "ME6ObQgv0O7X"
      }
    },
    {
      "cell_type": "markdown",
      "source": [
        "El comando `while` ejecuta un ciclo o *loop*:"
      ],
      "metadata": {
        "id": "4uQFCBz002De"
      }
    },
    {
      "cell_type": "code",
      "source": [
        "while num_billetes * grosor_billete <= altura_obelisco:\n",
        "    print(dia, num_billetes, num_billetes * grosor_billete)\n",
        "    dia = dia + 1\n",
        "    num_billetes = num_billetes * 2\n",
        "\n",
        "print('Cantidad de días', dia)"
      ],
      "metadata": {
        "id": "wsKkSVaZ1AkP"
      },
      "execution_count": null,
      "outputs": []
    },
    {
      "cell_type": "markdown",
      "source": [
        "Los comandos indentados debajo del `while` se van a a ejecutar mientras que la expresión luego del `while` sea verdadera (`True`).\n",
        "\n",
        "Otra manera de hacer ciclos es con el comando `for`:"
      ],
      "metadata": {
        "id": "yScn3O5u1HJ8"
      }
    },
    {
      "cell_type": "code",
      "source": [
        "for i in range(3):\n",
        "  print(i)"
      ],
      "metadata": {
        "colab": {
          "base_uri": "https://localhost:8080/"
        },
        "id": "nb-DRgot1Uei",
        "outputId": "205eb413-a7f4-4db7-ae8f-c210bb33b3c3"
      },
      "execution_count": null,
      "outputs": [
        {
          "output_type": "stream",
          "name": "stdout",
          "text": [
            "0\n",
            "1\n",
            "2\n"
          ]
        }
      ]
    },
    {
      "cell_type": "markdown",
      "source": [
        "El comando `for` itera sobre los elementos de una sequencia (en este caso generada por la función `range()`, pero puede ser una lista, tupla, cadena, etc.)."
      ],
      "metadata": {
        "id": "c_zMth991zuO"
      }
    },
    {
      "cell_type": "markdown",
      "source": [
        "### Indentación"
      ],
      "metadata": {
        "id": "43sTi5xC2NjD"
      }
    },
    {
      "cell_type": "markdown",
      "source": [
        "La indentación se usa para marcar grupos de comandos que van juntos. Considerá el ejemplo del programa anterior:"
      ],
      "metadata": {
        "id": "hoLDM6Ju2Rr2"
      }
    },
    {
      "cell_type": "code",
      "source": [
        "while num_billetes * grosor_billete <= altura_obelisco:\n",
        "    print(dia, num_billetes, num_billetes * grosor_billete)\n",
        "    dia = dia + 1\n",
        "    num_billetes = num_billetes * 2\n",
        "\n",
        "print('Cantidad de días', dia)"
      ],
      "metadata": {
        "id": "0zdpkyQ_2VM7"
      },
      "execution_count": null,
      "outputs": []
    },
    {
      "cell_type": "markdown",
      "source": [
        "La indentación agrupa los comandos siguientes como las operaciones a repetir:"
      ],
      "metadata": {
        "id": "8gx6v3Hv2XHu"
      }
    },
    {
      "cell_type": "code",
      "source": [
        "    print(dia, num_billetes, num_billetes * grosor_billete)\n",
        "    dia = dia + 1\n",
        "    num_billetes = num_billetes * 2"
      ],
      "metadata": {
        "id": "K2zaZLiH2Z9S"
      },
      "execution_count": null,
      "outputs": []
    },
    {
      "cell_type": "markdown",
      "source": [
        "Como el comando `print()` al final no está indentado, no pertenece al ciclo. La línea en blanco que dejamos entre ambos solo está para facilitar la lectura del código y no afecta la ejecución."
      ],
      "metadata": {
        "id": "QjnEu5gV2b0z"
      }
    },
    {
      "cell_type": "markdown",
      "source": [
        "___Algunas recomendaciones sobre cómo indentar___:\n",
        "\n",
        "\n",
        "*   Usar espacios y no el tabulador.\n",
        "*   Usar 4 espacios por cada nivel (aunque en notebooks solemos usar solo 2).\n",
        "*   Usar editores de textos que entiendan que estás escribiendo en Python.\n",
        "\n",
        "El único requisito verdadero del intérprete de Python es que la indentación dentro de un mismo bloque sea consistente. Por ejemplo, esto es un error:"
      ],
      "metadata": {
        "id": "z6T0tgZV28GJ"
      }
    },
    {
      "cell_type": "code",
      "source": [
        "while num_billetes * grosor_billete <= altura_obelisco:\n",
        "    print(dia, num_billetes, num_billetes * grosor_billete)\n",
        "        dia = dia + 1 # ERROR\n",
        "    num_billetes = num_billetes * 2"
      ],
      "metadata": {
        "id": "Rv0f_Fz73hEJ"
      },
      "execution_count": null,
      "outputs": []
    },
    {
      "cell_type": "markdown",
      "source": [
        "### Condicionales"
      ],
      "metadata": {
        "id": "XVsh7ghK35fk"
      }
    },
    {
      "cell_type": "markdown",
      "source": [
        "El comando `if` es usado para ejecutar un condicional:"
      ],
      "metadata": {
        "id": "ta8AYd0X3-gw"
      }
    },
    {
      "cell_type": "code",
      "source": [
        "a = 7\n",
        "b = 5\n",
        "\n",
        "if a > b:\n",
        "    print('Gana a')\n",
        "else:\n",
        "    print('Gana b')"
      ],
      "metadata": {
        "colab": {
          "base_uri": "https://localhost:8080/"
        },
        "id": "XLF6vKkj4Bx0",
        "outputId": "30c0c0b0-44d6-4ee7-ae39-c4b9a58f0608"
      },
      "execution_count": null,
      "outputs": [
        {
          "output_type": "stream",
          "name": "stdout",
          "text": [
            "Gana a\n"
          ]
        }
      ]
    },
    {
      "cell_type": "markdown",
      "source": [
        "Se pueden verificar condiciones mutuamente excluyentes agregando condiciones extras con `elif`."
      ],
      "metadata": {
        "id": "cthMVuyf4UEW"
      }
    },
    {
      "cell_type": "code",
      "source": [
        "if a > b:\n",
        "    print('Gana a')\n",
        "elif a == b:\n",
        "    print('Empate!')\n",
        "else:\n",
        "    print('Gana b')"
      ],
      "metadata": {
        "id": "WjDWf_gN4qGq"
      },
      "execution_count": null,
      "outputs": []
    },
    {
      "cell_type": "markdown",
      "source": [
        "El comando `elif` viene de *else*, *if* y puede traducirse como \"*si no se da la condición del if anterior, verificá si se da la siguiente*\"."
      ],
      "metadata": {
        "id": "xsSLpIAH4zAH"
      }
    },
    {
      "cell_type": "markdown",
      "source": [
        "### Imprimir en pantalla"
      ],
      "metadata": {
        "id": "cgX7hv315Fz7"
      }
    },
    {
      "cell_type": "markdown",
      "source": [
        "La función `print()` imprime una línea de texto con el valor pasado como parámetro."
      ],
      "metadata": {
        "id": "17Zj2CHb5JLv"
      }
    },
    {
      "cell_type": "code",
      "source": [
        "print('Hello world!') # Imprime 'Hello world!'"
      ],
      "metadata": {
        "id": "-Z6sI4uz5Naa"
      },
      "execution_count": null,
      "outputs": []
    },
    {
      "cell_type": "markdown",
      "source": [
        "También se pueden imprimir variables. El texto impreso en ese caso será el valor de la variable y no su nombre."
      ],
      "metadata": {
        "id": "Vy3xjFb15U5R"
      }
    },
    {
      "cell_type": "code",
      "source": [
        "x = 100\n",
        "print(x) # imprime el texto '100'"
      ],
      "metadata": {
        "id": "TytYid9S5ZAT"
      },
      "execution_count": null,
      "outputs": []
    },
    {
      "cell_type": "markdown",
      "source": [
        "Si se le pasa más de un valor al `print`, los separa con espacios."
      ],
      "metadata": {
        "id": "e7ArJdGf5d19"
      }
    },
    {
      "cell_type": "code",
      "source": [
        "nombre = 'Juana'\n",
        "print('Mi nombre es', nombre) # Imprime el texto 'Mi nombre es Juana'"
      ],
      "metadata": {
        "id": "hMhCsjeg5hx3"
      },
      "execution_count": null,
      "outputs": []
    },
    {
      "cell_type": "markdown",
      "source": [
        "### Ingreso de valores por teclado"
      ],
      "metadata": {
        "id": "JiBTf19j53_I"
      }
    },
    {
      "cell_type": "markdown",
      "source": [
        "Para leer un valor ingresado por el usuario, se puede usar la función `input()`:"
      ],
      "metadata": {
        "id": "PgiWOWqb56OY"
      }
    },
    {
      "cell_type": "code",
      "source": [
        "nombre = input('Ingresá tu nombre:')\n",
        "print('Tu nombre es', nombre)"
      ],
      "metadata": {
        "id": "Ctkqs3x85-2D"
      },
      "execution_count": null,
      "outputs": []
    },
    {
      "cell_type": "markdown",
      "source": [
        "El comando `input` imprime el texto que se le pasa como parámetro y espera una respuesta. Es útil para programas pequeños, para hacer ejercicios o para debuguear un código. Pero casi no se lo usa en programas reales."
      ],
      "metadata": {
        "id": "QRolTafg6B8U"
      }
    },
    {
      "cell_type": "markdown",
      "source": [
        "### El comando pass"
      ],
      "metadata": {
        "id": "47cABhog8Ee8"
      }
    },
    {
      "cell_type": "markdown",
      "source": [
        "A veces es necesario especificar que un bloque de código que no haga nada. El comando `pass` se usa para eso."
      ],
      "metadata": {
        "id": "bbnsIIWz8KLo"
      }
    },
    {
      "cell_type": "code",
      "source": [
        "if a > b:\n",
        "    pass\n",
        "else:\n",
        "    print('No ganó a')"
      ],
      "metadata": {
        "id": "NcPdnqgd8RHb"
      },
      "execution_count": null,
      "outputs": []
    },
    {
      "cell_type": "markdown",
      "source": [
        "Este comando no hace nada. En general sirve para guardar el lugar para un comando que querramos agregar luego."
      ],
      "metadata": {
        "id": "cXZh1krU8UdW"
      }
    },
    {
      "cell_type": "markdown",
      "source": [
        "# Ejercicios"
      ],
      "metadata": {
        "id": "kSvSBAuP8Z0Z"
      }
    },
    {
      "cell_type": "markdown",
      "source": [
        "**Rebotes**. Una pelota de goma es arrojada desde una altura de 100 metros y cada vez que toca el piso salta 3/5 de la altura desde la que cayó. Escribí un programa/script que imprima una tabla mostrando las alturas que alcanza en cada uno de sus primeros diez rebotes. Debería mostrar algo parecido a esto\n",
        "\n",
        "&nbsp;&nbsp; 1 &nbsp; 60.0\n",
        "\n",
        "&nbsp;&nbsp; 2 &nbsp; 36.0\n",
        "\n",
        "&nbsp;&nbsp; 3 &nbsp; 21.599999999999998\n",
        "\n",
        "&nbsp;&nbsp; 4 &nbsp; 12.959999999999999\n",
        "\n",
        "&nbsp;&nbsp; etc."
      ],
      "metadata": {
        "id": "Uvyy7xlT8fyQ"
      }
    },
    {
      "cell_type": "code",
      "source": [
        "# Rebotes\n"
      ],
      "metadata": {
        "id": "lE_ZbCKj9iJr"
      },
      "execution_count": null,
      "outputs": []
    },
    {
      "cell_type": "markdown",
      "source": [
        "**Mini Quiz**. Hacer un programa/script que le pregunte al usuario en qué año ocurrió el descubrimiento de América (1492), y que le responda si acertó o no."
      ],
      "metadata": {
        "id": "kLHQqaPP_9u3"
      }
    },
    {
      "cell_type": "code",
      "source": [
        "# América\n"
      ],
      "metadata": {
        "id": "vVBWzAW-A6Xd"
      },
      "execution_count": null,
      "outputs": []
    },
    {
      "cell_type": "markdown",
      "source": [
        "## Números\n",
        "\n",
        "Esta sección introduce las operaciones matemáticas elementales."
      ],
      "metadata": {
        "id": "F-l3_2wiDdez"
      }
    },
    {
      "cell_type": "markdown",
      "source": [
        "### Tipos\n",
        "\n",
        "Python tiene 4 tipos de números:\n",
        "\n",
        "\n",
        "*   Booleanos\n",
        "*   Enteros\n",
        "*   Punto flotante\n",
        "*   Complejos (con parte real y parte imaginaria)"
      ],
      "metadata": {
        "id": "Plh2nKArDvL4"
      }
    },
    {
      "cell_type": "markdown",
      "source": [
        "### Booleanos (bool)"
      ],
      "metadata": {
        "id": "8L2jBQy9ERfH"
      }
    },
    {
      "cell_type": "markdown",
      "source": [
        "Las variables booleanas pueden tomar dos valores: `True` o `False` (verdadero o falso)."
      ],
      "metadata": {
        "id": "XcE-QNMAECV2"
      }
    },
    {
      "cell_type": "code",
      "source": [
        "a = True\n",
        "b = False"
      ],
      "metadata": {
        "id": "uU1TcWYlEO0u"
      },
      "execution_count": null,
      "outputs": []
    },
    {
      "cell_type": "markdown",
      "source": [
        "Internamente, son evaluados como enteros con valores `1`, `0`. Por ejemplo,"
      ],
      "metadata": {
        "id": "_1G9sZE5EXuC"
      }
    },
    {
      "cell_type": "code",
      "source": [
        "c = 4 + True # 5\n",
        "print(c)\n",
        "\n",
        "d = False\n",
        "if d == 0:\n",
        "    print('d is False')"
      ],
      "metadata": {
        "id": "5oTyufYBEWtQ"
      },
      "execution_count": null,
      "outputs": []
    },
    {
      "cell_type": "markdown",
      "source": [
        ""
      ],
      "metadata": {
        "id": "kV8a_VF9FIG2"
      }
    },
    {
      "cell_type": "markdown",
      "source": [
        "*(los booleanos no son usados de esta manera, este código es muy raro!)*"
      ],
      "metadata": {
        "id": "30Gx_zpZE2nK"
      }
    },
    {
      "cell_type": "markdown",
      "source": [
        "### Enteros (int)"
      ],
      "metadata": {
        "id": "xl7C_UAqFFq5"
      }
    },
    {
      "cell_type": "markdown",
      "source": [
        "Representan números enteros (positivos y negativos) de cualquier magnitud:"
      ],
      "metadata": {
        "id": "Qt85A80SFPK0"
      }
    },
    {
      "cell_type": "code",
      "source": [
        "a = 37\n",
        "b = -299392993727716627377128481812241231"
      ],
      "metadata": {
        "id": "VQm9ZVSnFOvL"
      },
      "execution_count": null,
      "outputs": []
    },
    {
      "cell_type": "markdown",
      "source": [
        "Incluso se pueden especificar en diferentes bases:"
      ],
      "metadata": {
        "id": "o8lc7H9yFTFM"
      }
    },
    {
      "cell_type": "code",
      "source": [
        "c = 0x7fa8      # Hexadecimal\n",
        "d = 0o253       # Octal\n",
        "e = 0b10001111  # Binario"
      ],
      "metadata": {
        "id": "4RVZ-PhgFUhn"
      },
      "execution_count": null,
      "outputs": []
    },
    {
      "cell_type": "markdown",
      "source": [
        "Las operaciones usuales son:"
      ],
      "metadata": {
        "id": "IayILnMrFppt"
      }
    },
    {
      "cell_type": "code",
      "source": [
        "x + y      # Suma\n",
        "x - y      # Resta\n",
        "x * y      # Multiplicación\n",
        "x / y      # División (da un float, no un int)\n",
        "x // y     # División entera (da un int)\n",
        "x % y      # Módulo (resto)\n",
        "x ** y     # Potencia\n",
        "abs(x)     # Valor absoluto"
      ],
      "metadata": {
        "id": "_ypYg4XJFu_Z"
      },
      "execution_count": null,
      "outputs": []
    },
    {
      "cell_type": "markdown",
      "source": [
        "### Punto flotante (float)"
      ],
      "metadata": {
        "id": "CfZcxReAF54y"
      }
    },
    {
      "cell_type": "markdown",
      "source": [
        "Se usa una notación con decimales o una notación científica para especificar un valor de tipo punto flotante:"
      ],
      "metadata": {
        "id": "bEScQtkDF_xC"
      }
    },
    {
      "cell_type": "code",
      "source": [
        "a = 37.45\n",
        "b = 4e5 # 4 x 10**5 o 400,000\n",
        "c = -1.345e-10"
      ],
      "metadata": {
        "id": "8unSUWV6GC4X"
      },
      "execution_count": null,
      "outputs": []
    },
    {
      "cell_type": "markdown",
      "source": [
        "Los números de tipo floats son representados en la máquina como números de doble precisión usando la representación nativa del microprocesador que sigue el estándar IEEE 754. Para los que los conozcan: es el mismo tipo que los double en el lenguaje C. (Un `float` almacenan hasta 17 digitos con un exponente entre -308 to 308)\n",
        "\n",
        "Se debe tener cuidado debido a que la aritmética de punto flotante no es exacta (esto **no es un problema de Python**,  si no producto de la forma en que el hardware opera con números):"
      ],
      "metadata": {
        "id": "AvJiMC72GV-_"
      }
    },
    {
      "cell_type": "code",
      "source": [
        "a = 2.1 + 4.2\n",
        "print(a == 6.3)\n",
        "print(a)"
      ],
      "metadata": {
        "colab": {
          "base_uri": "https://localhost:8080/"
        },
        "id": "EX2EEsp2GnbY",
        "outputId": "133c0407-9eee-45ff-ac4b-ae87d6fb34a8"
      },
      "execution_count": null,
      "outputs": [
        {
          "output_type": "stream",
          "name": "stdout",
          "text": [
            "False\n",
            "6.300000000000001\n"
          ]
        }
      ]
    },
    {
      "cell_type": "markdown",
      "source": [
        "Las operaciones usuales son las mismas que las de los enteros:"
      ],
      "metadata": {
        "id": "eO22D3eGHM--"
      }
    },
    {
      "cell_type": "code",
      "source": [
        "x + y      # Suma\n",
        "x - y      # Resta\n",
        "x * y      # Multiplicación\n",
        "x / y      # División (da un float, no un int)\n",
        "x // y     # División entera (da un float, pero con ceros luego del punto)\n",
        "x % y      # Módulo (resto)\n",
        "x ** y     # Potencia\n",
        "abs(x)     # Valor absoluto"
      ],
      "metadata": {
        "id": "EronXjEzHQ0f"
      },
      "execution_count": null,
      "outputs": []
    },
    {
      "cell_type": "markdown",
      "source": [
        "Otras operaciones usuales se encuentran, por ejemplo, en el módulo `math`. El módulo `math` también tiene constantes (`math.e`, `math.pi`), entre otras cosas."
      ],
      "metadata": {
        "id": "WPjJ3qCJHbs6"
      }
    },
    {
      "cell_type": "code",
      "source": [
        "import math\n",
        "a = math.sqrt(x)\n",
        "b = math.sin(x)\n",
        "c = math.cos(x)\n",
        "d = math.tan(x)\n",
        "e = math.log(x)"
      ],
      "metadata": {
        "id": "XlIIy9gaHiV_"
      },
      "execution_count": null,
      "outputs": []
    },
    {
      "cell_type": "markdown",
      "source": [
        "### Comparaciones"
      ],
      "metadata": {
        "id": "T0DhZZpRHt01"
      }
    },
    {
      "cell_type": "markdown",
      "source": [
        "Las siguientes comparaciones (suelen llamarse operadores relacionales ya que expresan una relación entre dos elementos) funcionan con números:"
      ],
      "metadata": {
        "id": "gg8WAenbHvyF"
      }
    },
    {
      "cell_type": "code",
      "source": [
        "x < y      # Menor que\n",
        "x <= y     # Menor o igual que\n",
        "x > y      # Mayor que\n",
        "x >= y     # Mayor o igual que\n",
        "x == y     # Igual a\n",
        "x != y     # No igual a"
      ],
      "metadata": {
        "id": "SuYvdXeWHyd3"
      },
      "execution_count": null,
      "outputs": []
    },
    {
      "cell_type": "markdown",
      "source": [
        "Observá que el `==` se usa para comparar dos elementos, mientras que el `=` se usa para asignar un valor a una variable. Son símbolos distintos que cumplen funciones diferentes.\n",
        "\n",
        "Podés formar expresiones booleanas más complejas usando `and`, `or` y `not`. Algunos ejemplos:"
      ],
      "metadata": {
        "id": "1g9SgeXEH6Jl"
      }
    },
    {
      "cell_type": "code",
      "source": [
        "if b >= a and b <= c:\n",
        "    print('b está entre a y c')\n",
        "\n",
        "if not (b < a or b > c):\n",
        "    print('b sigue estando entre a y c')"
      ],
      "metadata": {
        "id": "TAtnpQUqIKJB"
      },
      "execution_count": null,
      "outputs": []
    },
    {
      "cell_type": "markdown",
      "source": [
        "### Conversión de tipos de números"
      ],
      "metadata": {
        "id": "3orI1LDUIRLZ"
      }
    },
    {
      "cell_type": "markdown",
      "source": [
        "El nombre de un tipo (de datos) puede ser usado para convertir valores:"
      ],
      "metadata": {
        "id": "BqBHSFEYIdVQ"
      }
    },
    {
      "cell_type": "code",
      "source": [
        "a = int(x)    # Convertir x a int\n",
        "b = float(x)  # Convertir x a float"
      ],
      "metadata": {
        "id": "rcIZZ_IiIetU"
      },
      "execution_count": null,
      "outputs": []
    },
    {
      "cell_type": "markdown",
      "source": [
        "*Cuidado: el separador decimal en Python es el punto, como en inglés, y no la coma del castellano. Por eso el comando `float(3,141592)` da un ValueError.*"
      ],
      "metadata": {
        "id": "Ii1YzA4gIkrx"
      }
    },
    {
      "cell_type": "markdown",
      "source": [
        "# Ejercicios\n",
        "\n",
        "**Intereses**. Suponé que tenes $100 dólares, que podés invertir con un 10% de retorno anual. Después de un año, esto es  100 x 1.1 = 110 dólares y luego de dos años es 100 x 1.1 x 1.1 = 121. Escribí el código para calcular cuanto dinero vas a tener al cabo de 7 años, e imprimí el resultado. "
      ],
      "metadata": {
        "id": "9gglUmbul8BJ"
      }
    },
    {
      "cell_type": "code",
      "source": [
        "# intereses"
      ],
      "metadata": {
        "id": "VX7deEB1mcjA"
      },
      "execution_count": null,
      "outputs": []
    },
    {
      "cell_type": "markdown",
      "source": [
        "**La hipoteca de David**. David solicitó un crédito a 30 años para comprar una vivienda, con una tasa fija nominal anual del 5%. Pidió \\$500000 al banco y acordó un pago mensual fijo de \\$2684,11.\n",
        "\n",
        "El siguiente es un programa que calcula el monto total que pagará David a lo largo de los años:"
      ],
      "metadata": {
        "id": "DcvIonLlIu4b"
      }
    },
    {
      "cell_type": "code",
      "source": [
        "# hipoteca\n",
        "\n",
        "saldo = 500000.0\n",
        "tasa = 0.05\n",
        "pago_mensual = 2684.11\n",
        "total_pagado = 0.0\n",
        "\n",
        "while saldo > 0:\n",
        "    saldo = saldo * (1+tasa/12) - pago_mensual\n",
        "    total_pagado = total_pagado + pago_mensual\n",
        "\n",
        "print('Total pagado:', round(total_pagado, 2))"
      ],
      "metadata": {
        "id": "h5KlBzbXJAIS",
        "colab": {
          "base_uri": "https://localhost:8080/"
        },
        "outputId": "8281b500-b093-4acf-c0c6-5508e794f188"
      },
      "execution_count": null,
      "outputs": [
        {
          "output_type": "stream",
          "name": "stdout",
          "text": [
            "Total pagado: 966279.6\n"
          ]
        }
      ]
    },
    {
      "cell_type": "markdown",
      "source": [
        "Supongamos que David adelanta pagos extra de \\$1000 por mes durante los primeros 12 meses de la hipoteca. Modificá abajo el programa para incorporar estos pagos extra y que imprima el monto total pagado junto con la cantidad de meses requeridos. Debería dar un pago total de 929965.62 en 342 meses.\n",
        "\n",
        "*(Ayuda: este ejercicio requiere que agregues una variable mes y que prestes bastante atención a cuándo la incrementás, con qué valor entra al ciclo y con qué valor sale del ciclo. Una posiblidad es inicializar mes en 0 y otra es inicializarla en 1. En el primer caso es problable que la variable salga del ciclo contando la cantidad de pagos que se hicieron, en el segundo, ¡es probable que salga contando la cantidad de pagos más uno!)*"
      ],
      "metadata": {
        "id": "Wdrn3t0-JL5Y"
      }
    },
    {
      "cell_type": "code",
      "source": [
        "saldo = 500000.0\n",
        "tasa = 0.05\n",
        "pago_mensual = 2684.11\n",
        "total_pagado = 0.0\n",
        "\n",
        "while saldo > 0:\n",
        "    saldo = saldo * (1+tasa/12) - pago_mensual\n",
        "    total_pagado = total_pagado + pago_mensual\n",
        "\n",
        "print('Total pagado:', round(total_pagado, 2))\n",
        "print('Meses:', ?)"
      ],
      "metadata": {
        "id": "08BNczH-Je2H"
      },
      "execution_count": null,
      "outputs": []
    },
    {
      "cell_type": "markdown",
      "source": [
        "**(Opcional)**. ¿Cuánto pagaría David si agrega $1000 por mes durante cuatro años, comenzando en el sexto año de la hipoteca (es decir, luego de 5 años)? Modificá tu programa de forma que la información sobre pagos extras sea incorporada de manera versátil. Agregá las siguientes variables antes del ciclo, para definir el comienzo, fin y monto de los pagos extras:"
      ],
      "metadata": {
        "id": "E_27gh9fKziG"
      }
    },
    {
      "cell_type": "code",
      "source": [
        "pago_extra_mes_comienzo = 61\n",
        "pago_extra_mes_fin = 108\n",
        "pago_extra = 1000"
      ],
      "metadata": {
        "id": "HHpNxMGPK-Hn"
      },
      "execution_count": null,
      "outputs": []
    },
    {
      "cell_type": "markdown",
      "source": [
        "## Cadenas de caracteres\n",
        "\n",
        "En esta sección se verá cómo trabajar con textos."
      ],
      "metadata": {
        "id": "NWp58qNYrPBJ"
      }
    },
    {
      "cell_type": "markdown",
      "source": [
        "Las cadenas de caracteres entre comillas se usan para representar texto en Python. En este caso, fragmentos del Martín Fierro."
      ],
      "metadata": {
        "id": "bCXYjCjWraUO"
      }
    },
    {
      "cell_type": "code",
      "source": [
        "# Comillas simples\n",
        "a = 'Aquí me pongo a cantar, al compás de la vigüela'\n",
        "\n",
        "# Comillas dobles\n",
        "b = \"Los hermanos sean unidos porque ésa es la ley primera\"\n",
        "\n",
        "# Comillas triples\n",
        "c = '''\n",
        "Yo no tengo en el amor\n",
        "Quien me venga con querellas;\n",
        "Como esas aves tan bellas\n",
        "Que saltan de rama en rama\n",
        "Yo hago en el trébol mi cama\n",
        "Y me cubren las estrellas.\n",
        "'''"
      ],
      "metadata": {
        "id": "CQqg8p2XrbTW"
      },
      "execution_count": null,
      "outputs": []
    },
    {
      "cell_type": "markdown",
      "source": [
        "Normalmente las cadenas de caracteres solo ocupan una linea. Las comillas triples nos permiten capturar todo el texto encerrado a lo largo de múltiples lineas. No hay diferencia entre las comillas simples (') y las dobles (\"), pero el mismo tipo de comillas que se usó para abrir debe usarse para cerrar."
      ],
      "metadata": {
        "id": "MMFBSg42re4Y"
      }
    },
    {
      "cell_type": "markdown",
      "source": [
        "### Códigos de escape"
      ],
      "metadata": {
        "id": "0I1qkOGernsd"
      }
    },
    {
      "cell_type": "markdown",
      "source": [
        "Los códigos de escape (*escape codes*) son expresiones que comienzan con una barra invertida, `\\` y se usan para representar caracteres que no pueden ser fácilmente tipeados directamente con el teclado. Estos son algunos códigos de escape usuales:"
      ],
      "metadata": {
        "id": "n67j0QWJrtX_"
      }
    },
    {
      "cell_type": "code",
      "source": [
        "'\\n'      Avanzar una línea\n",
        "'\\r'      Retorno de carro\n",
        "'\\t'      Tabulador\n",
        "'\\''      Comilla literal\n",
        "'\\\"'      Comilla doble literal\n",
        "'\\\\'      Barra invertida literal"
      ],
      "metadata": {
        "id": "U2yEF1zIr087"
      },
      "execution_count": null,
      "outputs": []
    },
    {
      "cell_type": "markdown",
      "source": [
        "### Representación en memoria de las cadenas"
      ],
      "metadata": {
        "id": "W98NS0dnr-ls"
      }
    },
    {
      "cell_type": "markdown",
      "source": [
        "Las cadenas se representan en Python asociando a cada caracter un número entero o código Unicode. Es posible definir un caracter usando su código y códigos de escape como `s = '\\U0001D120'` para la clave de sol. La [base de datos de caracteres de Unicode](https://unicode.org/charts/) es una referencia de todos los códigos de caracteres disponibles."
      ],
      "metadata": {
        "id": "I7wsK_7vsQSP"
      }
    },
    {
      "cell_type": "markdown",
      "source": [
        "### Indexación de cadenas"
      ],
      "metadata": {
        "id": "DNNfJZTZsusT"
      }
    },
    {
      "cell_type": "markdown",
      "source": [
        "Las cadenas funcionan como los vectores en matemática o los arrays, permitiendo el acceso a los caracteres individuales. El índice comienza a contar en cero. Los índices negativos se usan para especificar una posición respecto al final de la cadena."
      ],
      "metadata": {
        "id": "WsDbUBrqsxXP"
      }
    },
    {
      "cell_type": "code",
      "source": [
        "a = 'Hello world'\n",
        "b = a[0]          # primer caracter de la cadena = 'H'\n",
        "c = a[4]          # 'o'\n",
        "d = a[-1]         # 'd' (fin de cadena)"
      ],
      "metadata": {
        "id": "_QjaRZr8s-Yg"
      },
      "execution_count": null,
      "outputs": []
    },
    {
      "cell_type": "markdown",
      "source": [
        "También se puede rebanar (*slice*) o seleccionar subcadenas especificando un rango de índices con `:`."
      ],
      "metadata": {
        "id": "mWwCwJf1tA4l"
      }
    },
    {
      "cell_type": "code",
      "source": [
        "d = a[:5]     # 'Hello' \n",
        "e = a[6:]     # 'world'\n",
        "f = a[3:8]    # 'lo wo'\n",
        "g = a[-5:]    # 'world'"
      ],
      "metadata": {
        "id": "WlE4tL8ktFsp"
      },
      "execution_count": null,
      "outputs": []
    },
    {
      "cell_type": "markdown",
      "source": [
        "El caracter que corresponde al último índice no se incluye. Si un extremo no se especifica, significa que es desde el comienzo o hasta el final, respectivamente."
      ],
      "metadata": {
        "id": "AY8Xl2PUtHNJ"
      }
    },
    {
      "cell_type": "markdown",
      "source": [
        "### Operaciones con cadenas"
      ],
      "metadata": {
        "id": "bQ01I0CjtTrF"
      }
    },
    {
      "cell_type": "markdown",
      "source": [
        "Se puede realizar varias operaciones básicas con cadenas, como concatenación, longitud, pertenencia y replicación."
      ],
      "metadata": {
        "id": "Ozm_vdIRtWeG"
      }
    },
    {
      "cell_type": "code",
      "source": [
        "# Concatenación (+)\n",
        "a = 'Hello' + 'World'   # 'HelloWorld'\n",
        "b = 'Say ' + a          # 'Say HelloWorld'\n",
        "\n",
        "# Longitud (len)\n",
        "s = 'Hello'\n",
        "len(s)                  # 5\n",
        "\n",
        "# Test de pertenencia (in, not in)\n",
        "t = 'e' in s            # True\n",
        "f = 'x' in s            # False\n",
        "g = 'hi' not in s       # True\n",
        "\n",
        "# Replicación (s * n)\n",
        "rep = s * 5             # 'HelloHelloHelloHelloHello'"
      ],
      "metadata": {
        "id": "sx4fsJjttiIj"
      },
      "execution_count": null,
      "outputs": []
    },
    {
      "cell_type": "markdown",
      "source": [
        "### Métodos con cadenas"
      ],
      "metadata": {
        "id": "0RvGLmtztkIL"
      }
    },
    {
      "cell_type": "markdown",
      "source": [
        "Las cadenas en Python tienen *métodos* que realizan diversas operaciones con este tipo de datos. Por ejemplo, sacar (`strip`) los espacios en blanco sobrantes al inicio o al final de una cadena:\n"
      ],
      "metadata": {
        "id": "IoZNx3obtqfV"
      }
    },
    {
      "cell_type": "code",
      "source": [
        "s = '  Hello '\n",
        "t = s.strip()     # 'Hello'"
      ],
      "metadata": {
        "id": "NlG1FsSjtybc"
      },
      "execution_count": null,
      "outputs": []
    },
    {
      "cell_type": "markdown",
      "source": [
        "O la conversión entre mayúsculas y minúsculas:"
      ],
      "metadata": {
        "id": "tBclWlWut0f_"
      }
    },
    {
      "cell_type": "code",
      "source": [
        "s = 'Hello'\n",
        "l = s.lower()     # 'hello'\n",
        "u = s.upper()     # 'HELLO'"
      ],
      "metadata": {
        "id": "vRvsZmGLt7aH"
      },
      "execution_count": null,
      "outputs": []
    },
    {
      "cell_type": "markdown",
      "source": [
        "O el reemplazo de texto:"
      ],
      "metadata": {
        "id": "rR7zbWTMt9Ku"
      }
    },
    {
      "cell_type": "code",
      "source": [
        "s = 'Hello world'\n",
        "t = s.replace('Hello' , 'Hallo')   # 'Hallo world'"
      ],
      "metadata": {
        "id": "B0TCkL8SuEXo"
      },
      "execution_count": null,
      "outputs": []
    },
    {
      "cell_type": "markdown",
      "source": [
        "Las cadenas ofrecen una amplia variedad de métodos para testear y manipular textos. Estos son algunos de los métodos:"
      ],
      "metadata": {
        "id": "gyL8UexXuIYW"
      }
    },
    {
      "cell_type": "code",
      "source": [
        "s.endswith(suffix)     # Verifica si termina con el sufijo\n",
        "s.find(t)              # Primera aparición de t en s (o -1 si no está)\n",
        "s.index(t)             # Primera aparición de t en s (error si no está)\n",
        "s.isalpha()            # Verifica si los caracteres son alfabéticos\n",
        "s.isdigit()            # Verifica si los caracteres son numéricos\n",
        "s.islower()            # Verifica si los caracteres son minúsculas\n",
        "s.isupper()            # Verifica si los caracteres son mayúsculas\n",
        "s.join(slist)          # Une una lista de cadenas usando s como delimitador\n",
        "s.lower()              # Convertir a minúsculas\n",
        "s.replace(old,new)     # Reemplaza texto\n",
        "s.split([delim])       # Parte la cadena en subcadenas\n",
        "s.startswith(prefix)   # Verifica si comienza con un prefijo\n",
        "s.strip()              # Elimina espacios en blanco al inicio o al final\n",
        "s.upper()              # Convierte a mayúsculas"
      ],
      "metadata": {
        "id": "D4IAxQUAuNAc"
      },
      "execution_count": null,
      "outputs": []
    },
    {
      "cell_type": "markdown",
      "source": [
        "### Mutabilidad de cadenas"
      ],
      "metadata": {
        "id": "2YDsF3YzuS8H"
      }
    },
    {
      "cell_type": "markdown",
      "source": [
        "Los strings son \"inmutables\" o de sólo lectura. Una vez creados, su valor no puede ser cambiado. El siguiente código, al intertar cambiar un caracter de una cadena genera un error"
      ],
      "metadata": {
        "id": "ePNYf0YpuXf4"
      }
    },
    {
      "cell_type": "code",
      "source": [
        "s = 'Hello World'\n",
        "s[1] = 'a' # Intento cambiar la 'e' por una 'a'"
      ],
      "metadata": {
        "colab": {
          "base_uri": "https://localhost:8080/",
          "height": 191
        },
        "id": "pkZFJcZVuhJx",
        "outputId": "08bf9b8a-8280-4c37-e6e2-8a15bb6543b3"
      },
      "execution_count": null,
      "outputs": [
        {
          "output_type": "error",
          "ename": "TypeError",
          "evalue": "ignored",
          "traceback": [
            "\u001b[0;31m---------------------------------------------------------------------------\u001b[0m",
            "\u001b[0;31mTypeError\u001b[0m                                 Traceback (most recent call last)",
            "\u001b[0;32m<ipython-input-1-ba6c1eedc028>\u001b[0m in \u001b[0;36m<module>\u001b[0;34m()\u001b[0m\n\u001b[1;32m      1\u001b[0m \u001b[0ms\u001b[0m \u001b[0;34m=\u001b[0m \u001b[0;34m'Hello World'\u001b[0m\u001b[0;34m\u001b[0m\u001b[0;34m\u001b[0m\u001b[0m\n\u001b[0;32m----> 2\u001b[0;31m \u001b[0ms\u001b[0m\u001b[0;34m[\u001b[0m\u001b[0;36m1\u001b[0m\u001b[0;34m]\u001b[0m \u001b[0;34m=\u001b[0m \u001b[0;34m'a'\u001b[0m \u001b[0;31m# Intento cambiar la 'e' por una 'a'\u001b[0m\u001b[0;34m\u001b[0m\u001b[0;34m\u001b[0m\u001b[0m\n\u001b[0m",
            "\u001b[0;31mTypeError\u001b[0m: 'str' object does not support item assignment"
          ]
        }
      ]
    },
    {
      "cell_type": "markdown",
      "source": [
        "Esto implica que las operaciones y métodos que manipulan cadenas deben crear nuevas cadenas para almacenar su resultado."
      ],
      "metadata": {
        "id": "9tNs3Z3WulxE"
      }
    },
    {
      "cell_type": "markdown",
      "source": [
        "### Conversión de cadenas"
      ],
      "metadata": {
        "id": "7oKBbqbHumbK"
      }
    },
    {
      "cell_type": "markdown",
      "source": [
        "Se puede usar `str()` para convertir cualquier valor a cadena. El resultado es una cadena con el mismo contenido que hubiera mostrado el comando `print()` sobre la expresión entre paréntesis."
      ],
      "metadata": {
        "id": "qj-wOnsyuwHJ"
      }
    },
    {
      "cell_type": "code",
      "source": [
        "x = 42\n",
        "str(x)"
      ],
      "metadata": {
        "colab": {
          "base_uri": "https://localhost:8080/",
          "height": 36
        },
        "id": "sFH4DdP2u2Xa",
        "outputId": "3774317e-4302-4148-d894-1bcb852d3e97"
      },
      "execution_count": null,
      "outputs": [
        {
          "output_type": "execute_result",
          "data": {
            "text/plain": [
              "'42'"
            ],
            "application/vnd.google.colaboratory.intrinsic+json": {
              "type": "string"
            }
          },
          "metadata": {},
          "execution_count": 2
        }
      ]
    },
    {
      "cell_type": "markdown",
      "source": [
        "### f-strings"
      ],
      "metadata": {
        "id": "-RgOdJV4u8s6"
      }
    },
    {
      "cell_type": "markdown",
      "source": [
        "Las f-Strings son cadenas en las que ciertas expresiones son formateadas (esto requiere Python 3.6 o uno más nuevo!)"
      ],
      "metadata": {
        "id": "w0m2goLyvAqr"
      }
    },
    {
      "cell_type": "code",
      "source": [
        "nombre = 'Naranja'\n",
        "cajones = 100\n",
        "precio = 91.1\n",
        "a = f'{nombre:>10s} {cajones:10d} {precio:10.2f}'\n",
        "print(a)"
      ],
      "metadata": {
        "colab": {
          "base_uri": "https://localhost:8080/"
        },
        "id": "Jf2GM8HGvJv6",
        "outputId": "1073000d-05a6-4745-ce7f-ce278cd2aa45"
      },
      "execution_count": null,
      "outputs": [
        {
          "output_type": "stream",
          "name": "stdout",
          "text": [
            "   Naranja        100      91.10\n"
          ]
        }
      ]
    },
    {
      "cell_type": "markdown",
      "source": [
        "### Ejercicios"
      ],
      "metadata": {
        "id": "uibrL05fwMlb"
      }
    },
    {
      "cell_type": "markdown",
      "source": [
        "**Jeringoso simple**. Usá una iteración sobre el string `cadena` para agregar la sílaba 'pa', 'pe', 'pi', 'po', o 'pu' según corresponda luego de cada vocal. Podés probar tu código cambiando la cadena inicial por otra palabra, como 'apa' o 'boligoma'."
      ],
      "metadata": {
        "id": "pNiKSKAiwO-f"
      }
    },
    {
      "cell_type": "code",
      "source": [
        "# jeringoso\n",
        "cadena = 'Geringoso'\n",
        "capadepenapa = ''\n",
        "\n",
        "for c in cadena:\n",
        "  ?\n",
        "\n",
        "print(capadepenapa)"
      ],
      "metadata": {
        "id": "Kztcm_lDwd6x"
      },
      "execution_count": null,
      "outputs": []
    },
    {
      "cell_type": "markdown",
      "source": [
        "## Listas"
      ],
      "metadata": {
        "id": "PxyMK5aXwuJO"
      }
    },
    {
      "cell_type": "markdown",
      "source": [
        "Las listas son el tipo de datos primitivo de Python para guardar colecciones ordenadas de valores. Se usan corchetes para definir una lista:"
      ],
      "metadata": {
        "id": "39xxKKXXwwo4"
      }
    },
    {
      "cell_type": "code",
      "source": [
        "nombres = [ 'Rosita', 'Manuel', 'Luciana' ]\n",
        "nums = [ 39, 38, 42, 65, 111]"
      ],
      "metadata": {
        "id": "BS7nXB8Hw8pb"
      },
      "execution_count": null,
      "outputs": []
    },
    {
      "cell_type": "markdown",
      "source": [
        "A veces las listas son creadas con otros métodos. Por ejemplo, si exportamos datos desde una planilla de cálculo, con valores separados por comas, luego los elementos de una cadena pueden ser separados en una lista usando el método `split()`:"
      ],
      "metadata": {
        "id": "g2OzItmFxASg"
      }
    },
    {
      "cell_type": "code",
      "source": [
        "line = 'Pera,100,490.10'\n",
        "row = line.split(',') # la coma indica el elemento que se usa como separador\n",
        "print(row)"
      ],
      "metadata": {
        "id": "ZRu3P4JUxN6a"
      },
      "execution_count": null,
      "outputs": []
    },
    {
      "cell_type": "markdown",
      "source": [
        "### Operaciones con listas"
      ],
      "metadata": {
        "id": "ii4qOqT-xW2V"
      }
    },
    {
      "cell_type": "markdown",
      "source": [
        "Las listas pueden almacenar elementos de cualquier tipo. Podés agregar nuevos elementos usando `append()`:"
      ],
      "metadata": {
        "id": "_UHACEHExaYp"
      }
    },
    {
      "cell_type": "code",
      "source": [
        "nombres.append('Mauro')     # Lo agrega al final"
      ],
      "metadata": {
        "id": "gavOxmO2xdXJ"
      },
      "execution_count": null,
      "outputs": []
    },
    {
      "cell_type": "markdown",
      "source": [
        "Con el símbolo de adición `+` se pueden concatenar listas:"
      ],
      "metadata": {
        "id": "3lfWnzQNxfJ8"
      }
    },
    {
      "cell_type": "code",
      "source": [
        "s = [1, 2, 3]\n",
        "t = ['a', 'b']\n",
        "s + t           # [1, 2, 3, 'a', 'b']"
      ],
      "metadata": {
        "id": "NMpQP3lixhU2"
      },
      "execution_count": null,
      "outputs": []
    },
    {
      "cell_type": "markdown",
      "source": [
        "Las listas se indexan con números enteros, comenzando en 0."
      ],
      "metadata": {
        "id": "yxNKellXxn4t"
      }
    },
    {
      "cell_type": "code",
      "source": [
        "nombres = [ 'Rosita', 'Manuel', 'Luciana' ]\n",
        "\n",
        "nombres[0]  # 'Rosita'\n",
        "nombres[1]  # 'Manuel'\n",
        "nombres[2]  # 'Luciana'"
      ],
      "metadata": {
        "id": "tg3BDisyxpf7"
      },
      "execution_count": null,
      "outputs": []
    },
    {
      "cell_type": "markdown",
      "source": [
        "Los índices negativos cuentan desde el final."
      ],
      "metadata": {
        "id": "1c8PuxakxrzL"
      }
    },
    {
      "cell_type": "code",
      "source": [
        "nombres[-1] # 'Luciana'"
      ],
      "metadata": {
        "id": "mSY-8lA0xudy"
      },
      "execution_count": null,
      "outputs": []
    },
    {
      "cell_type": "markdown",
      "source": [
        "A diferencia de las cadenas, se puede cambiar cualquier elemento de una lista."
      ],
      "metadata": {
        "id": "FtgGGl14xxPt"
      }
    },
    {
      "cell_type": "code",
      "source": [
        "nombres[1] = 'Juan Manuel'\n",
        "print(nombres)       # [ 'Rosita', 'Juan Manuel', 'Luciana' ]"
      ],
      "metadata": {
        "id": "tZcbDbxhx2gF"
      },
      "execution_count": null,
      "outputs": []
    },
    {
      "cell_type": "markdown",
      "source": [
        "Y podés insertar elementos en una posición. Acordate que los índices comienzan a contar desde el 0."
      ],
      "metadata": {
        "id": "D2QvSNEJx7Nb"
      }
    },
    {
      "cell_type": "code",
      "source": [
        "nombres.insert(2, 'Iratxe') # Lo inserta en la posición 2. \n",
        "nombres.insert(0, 'Iratxe') # Lo inserta como primer elemento. "
      ],
      "metadata": {
        "id": "Xgn7e6yFx9m2"
      },
      "execution_count": null,
      "outputs": []
    },
    {
      "cell_type": "markdown",
      "source": [
        "La función `len()` permite obtener la longitud de una lista."
      ],
      "metadata": {
        "id": "FJMfEQacyAOi"
      }
    },
    {
      "cell_type": "code",
      "source": [
        "nombres = ['Rosita','Manuel','Luciana']\n",
        "len(nombres)  # 3"
      ],
      "metadata": {
        "id": "U2Lp_kSBx_b5"
      },
      "execution_count": null,
      "outputs": []
    },
    {
      "cell_type": "markdown",
      "source": [
        "Test de pertenencia a la lista (`in`, `not in`)."
      ],
      "metadata": {
        "id": "ZbVstVs2yGbf"
      }
    },
    {
      "cell_type": "code",
      "source": [
        "'Rosita' in nombres     # True\n",
        "'Diego' not in nombres  # True"
      ],
      "metadata": {
        "id": "S_pa7PE9yIPh"
      },
      "execution_count": null,
      "outputs": []
    },
    {
      "cell_type": "markdown",
      "source": [
        "Y se puede replicar una lista `(s * n)`."
      ],
      "metadata": {
        "id": "cRdrmEl3yMZL"
      }
    },
    {
      "cell_type": "code",
      "source": [
        "s = [1, 2, 3]\n",
        "s * 3   # [1, 2, 3, 1, 2, 3, 1, 2, 3]"
      ],
      "metadata": {
        "id": "bQKfVILzyQwQ"
      },
      "execution_count": null,
      "outputs": []
    },
    {
      "cell_type": "markdown",
      "source": [
        "### Iteradores de listas y búsqueda"
      ],
      "metadata": {
        "id": "vN_CPukiyS9K"
      }
    },
    {
      "cell_type": "markdown",
      "source": [
        "Usá el comando `for` para iterar sobre los elementos de una lista."
      ],
      "metadata": {
        "id": "8AS-7NAfyW4O"
      }
    },
    {
      "cell_type": "code",
      "source": [
        "for nombre in nombres:\n",
        "    # en cada iteración un elemento de la lista va a ser almacenado en la variable nombre\n",
        "    # usá nombre dentro de la iteración\n",
        "    # ej print(nombre)\n",
        "    ..."
      ],
      "metadata": {
        "id": "y3d2ND7vyZgE"
      },
      "execution_count": null,
      "outputs": []
    },
    {
      "cell_type": "markdown",
      "source": [
        "Para encontrar rápidamente la posición de un elemento en una lista, usá `index()`."
      ],
      "metadata": {
        "id": "0nwyCgXDych7"
      }
    },
    {
      "cell_type": "code",
      "source": [
        "nombres = ['Rosita','Manuel','Luciana']\n",
        "nombres.index('Luciana')   # 2"
      ],
      "metadata": {
        "id": "RZaLZuMYyfvG"
      },
      "execution_count": null,
      "outputs": []
    },
    {
      "cell_type": "markdown",
      "source": [
        "Si el elemento está presente en más de una posición, `index()` te va a devolver el índice de la primera aparición. Si el elemento no está en la lista se va a generar una excepción de tipo `ValueError`."
      ],
      "metadata": {
        "id": "lIbpJpUryjix"
      }
    },
    {
      "cell_type": "markdown",
      "source": [
        "### Borrar elementos"
      ],
      "metadata": {
        "id": "GBBhBlOLyol3"
      }
    },
    {
      "cell_type": "markdown",
      "source": [
        "Podés borrar elementos de una lista tanto usando el valor del elemento como su posición:"
      ],
      "metadata": {
        "id": "xMC4FrY0yrqQ"
      }
    },
    {
      "cell_type": "code",
      "source": [
        "# Usando el valor\n",
        "nombres.remove('Luciana')\n",
        "\n",
        "# Usando la posición\n",
        "del nombres[1]"
      ],
      "metadata": {
        "id": "1aAfODylytO9"
      },
      "execution_count": null,
      "outputs": []
    },
    {
      "cell_type": "markdown",
      "source": [
        "Al borrar un elemento no se genera un hueco. Los siguientes elementos se moverán para llenar el vacío. Si hubiera más de una aparición de un valor, `remove()` sólo sacará la primera aparición."
      ],
      "metadata": {
        "id": "C3sSTudCyuqW"
      }
    },
    {
      "cell_type": "markdown",
      "source": [
        "### Ordenar listas"
      ],
      "metadata": {
        "id": "NhoxUd6Fyy3O"
      }
    },
    {
      "cell_type": "markdown",
      "source": [
        "Las listas pueden ser ordenadas \"in-place\", es decir, sin asignarlas a nuevas variables."
      ],
      "metadata": {
        "id": "Q0WIMs6vy3cd"
      }
    },
    {
      "cell_type": "code",
      "source": [
        "s = [10, 1, 7, 3]\n",
        "s.sort()                    # [1, 3, 7, 10]\n",
        "\n",
        "# Orden inverso\n",
        "s = [10, 1, 7, 3]\n",
        "s.sort(reverse=True)        # [10, 7, 3, 1]\n",
        "\n",
        "# Funciona con cualquier tipo de datos que tengan orden\n",
        "s = ['foo', 'bar', 'spam']\n",
        "s.sort()                    # ['bar', 'foo', 'spam']"
      ],
      "metadata": {
        "id": "Z-fV-80Hy7CV"
      },
      "execution_count": null,
      "outputs": []
    },
    {
      "cell_type": "markdown",
      "source": [
        "Usá `sorted()` si querés generar una nueva lista ordenada en lugar de ordenar la misma:"
      ],
      "metadata": {
        "id": "B49pXn0Zy9Gm"
      }
    },
    {
      "cell_type": "code",
      "source": [
        "t = sorted(s)               # s queda igual, t guarda los valores ordenados"
      ],
      "metadata": {
        "id": "RV90exvOy_9c"
      },
      "execution_count": null,
      "outputs": []
    },
    {
      "cell_type": "markdown",
      "source": [
        "### Listas y matemática"
      ],
      "metadata": {
        "id": "awwvlTmzzIs_"
      }
    },
    {
      "cell_type": "markdown",
      "source": [
        "**Cuidado:** Las listas no fueron diseñadas para realizar operaciones matemáticas. Observar que pasa con el siguiente código!"
      ],
      "metadata": {
        "id": "2mgTZxUYzMEI"
      }
    },
    {
      "cell_type": "code",
      "source": [
        "nums = [1, 2, 3, 4, 5]\n",
        "print(nums * 2)                    # [1, 2, 3, 4, 5, 1, 2, 3, 4, 5]\n",
        "print(nums + [10, 11, 12, 13, 14]) # [1, 2, 3, 4, 5, 10, 11, 12, 13, 14]"
      ],
      "metadata": {
        "id": "AP85ZyK2zPEs"
      },
      "execution_count": null,
      "outputs": []
    },
    {
      "cell_type": "markdown",
      "source": [
        "Específicamente, las listas no representan vectores ni matrices como en MATLAB, Octave, R, etc. Sin embargo, hay paquetes de Python que hacen muy bien ese trabajo (por ejemplo numpy)."
      ],
      "metadata": {
        "id": "E-SkZ-d6zbjb"
      }
    },
    {
      "cell_type": "markdown",
      "source": [
        "# Funciones\n",
        "\n",
        "Cuando queremos hacer un cálculo u operación en forma repetida, es conveniente escribirlo en forma de función. Veamos algunos ejemplos y como hacerlo. \n",
        "\n",
        "En este caso queremos calcular varias métricas de distintos tanques australianos de distintos campos. Como son de diferentes diametros y alturas, tenemos que repetir el cálculo para cada uno:"
      ],
      "metadata": {
        "id": "QIu9ZCiOnIZY"
      }
    },
    {
      "cell_type": "code",
      "source": [
        "# manera engorrosa\n",
        "pi = 3.14159265359\n",
        "\n",
        "# tanque campo 1\n",
        "radio = 3  # en metros\n",
        "altura = 1 # en metros\n",
        "circunferencia = 2 * pi * radio \n",
        "superficie = pi * (radio**2)\n",
        "volumen = superficie * altura\n",
        "print(\"Tanque 1\")\n",
        "print(\"circunferencia: \", circunferencia, \"m\")\n",
        "print(\"superficie: \", superficie, \" m2\")\n",
        "print(\"volumen: \", volumen, \" m3\")\n",
        "\n",
        "# tanque campo 2\n",
        "radio = 4  # en metros\n",
        "altura = 1.5 # en metros\n",
        "circunferencia = 2 * pi * radio \n",
        "superficie = pi * (radio**2)\n",
        "volumen = superficie * altura\n",
        "print(\"Tanque 2\")\n",
        "print(\"circunferencia: \", circunferencia, \"m\")\n",
        "print(\"superficie: \", superficie, \" m2\")\n",
        "print(\"volumen: \", volumen, \" m3\")\n",
        "\n",
        "# tanque campo 3\n",
        "radio = 2.6  # en metros\n",
        "altura = 1.2 # en metros\n",
        "circunferencia = 2 * pi * radio \n",
        "superficie = pi * (radio**2)\n",
        "volumen = superficie * altura\n",
        "print(\"Tanque 3\")\n",
        "print(\"circunferencia: \", circunferencia, \"m\")\n",
        "print(\"superficie: \", superficie, \" m2\")\n",
        "print(\"volumen: \", volumen, \" m3\")\n",
        "\n",
        "# tanque n"
      ],
      "metadata": {
        "id": "_OaUJ4Wunhte"
      },
      "execution_count": null,
      "outputs": []
    },
    {
      "cell_type": "markdown",
      "source": [
        "Cuales son los problemas? En primer lugar, si nos equivocamos y cometemos un error de cálculo (por ejemplo calculamos mal la circunferencia), y queremos corregir el codigo, lo tenemos que hacer en **varios lugares**. Si nos olvidamos de corregir alguna instancia, vamos a tener calculos mal hechos mezclados con otros bien hechos. \n",
        "\n",
        "Abajo definimos 3 funciones para los cálculos, observar como se define en cada caso el input que espera la función, y como se llama a la función, pasándole este input en cada caso."
      ],
      "metadata": {
        "id": "EvfKlYlNu2DB"
      }
    },
    {
      "cell_type": "code",
      "source": [
        "# ahora con funciones\n",
        "\n",
        "def superficie(r):\n",
        "  # la funcion superficie espera un input que va a almacenar en la variable r\n",
        "  return 3.14159265359 * (r**2)\n",
        "\n",
        "def circunferencia(r):\n",
        "  # la funcion espera un input que va a almacenar en la variable r\n",
        "  return 2 * 3.14159265359 * r\n",
        "\n",
        "def volumen(s, a):\n",
        "  # la funcion espera dos inputs, el primero lo almacena en s, el segundo en a\n",
        "  return s * a\n",
        "\n",
        "# tanque campo 1\n",
        "radio = 3\n",
        "altura = 1\n",
        "# llamamos a las funciones y le pasamos a cada una (entre parentesis) \n",
        "# el o los valores que esperan\n",
        "circ = circunferencia(radio) \n",
        "sup  = superficie(radio)\n",
        "vol  = volumen(sup,altura)\n",
        "print(\"Tanque 1:\", circ, \" m; \", sup, \" m2; \", vol, \" m3.\")\n",
        "\n",
        "# tanque campo 2 \n",
        "radio = 4\n",
        "altura = 1.5\n",
        "circ = circunferencia(radio)\n",
        "sup  = superficie(radio)\n",
        "vol  = volumen(sup,altura)\n",
        "print(\"Tanque 2:\", circ, \" m; \", sup, \" m2; \", vol, \" m3.\")\n",
        "\n",
        "# tanque campo 3\n",
        "radio = 2.6\n",
        "altura = 1.2\n",
        "circ = circunferencia(radio)\n",
        "sup  = superficie(radio)\n",
        "vol  = volumen(sup,altura)\n",
        "print(\"Tanque 3:\", circ, \" m; \", sup, \" m2; \", vol, \" m3.\")"
      ],
      "metadata": {
        "id": "Cb3RmsPJpN1x"
      },
      "execution_count": null,
      "outputs": []
    },
    {
      "cell_type": "markdown",
      "source": [
        "## Más Funciones\n",
        "\n",
        "Python provee varias funciones ya definidas (built-in). La lista completa de funciones se puede ver [acá](https://docs.python.org/library/functions.html).\n",
        "\n",
        "Algunos ejemplos son: "
      ],
      "metadata": {
        "id": "joTNBRjjxoqZ"
      }
    },
    {
      "cell_type": "code",
      "source": [
        "# max\n",
        "\n",
        "maximo = max(19,20,5,99,45,1,123,33) # la función max acepta un numero de inputs variable\n",
        "minimo = min(19,20,5,99,45,1,123,33)\n",
        "\n",
        "print(\"Max:\", maximo, \" Min:\", minimo)"
      ],
      "metadata": {
        "id": "jlbzUh2TyI4I"
      },
      "execution_count": null,
      "outputs": []
    },
    {
      "cell_type": "code",
      "source": [
        "# type\n",
        "name = \"Fernán\"\n",
        "edad = 50\n",
        "altura = 1.67\n",
        "argentino = True\n",
        "\n",
        "type(altura)\n",
        "\n",
        "# Ejercicio: probar averiguar el tipo de las otras variables"
      ],
      "metadata": {
        "id": "MNhqFRT8zDC_"
      },
      "execution_count": null,
      "outputs": []
    },
    {
      "cell_type": "code",
      "source": [
        "# sum\n",
        "lista = [23, 45, 56, 3, 27, 22, 73]\n",
        "sum(lista)"
      ],
      "metadata": {
        "id": "tdenVqvrU8KG"
      },
      "execution_count": null,
      "outputs": []
    },
    {
      "cell_type": "code",
      "source": [
        "# sum puede sumar más que números\n",
        "evaluaciones = [True, False, False, True, True]\n",
        "sum(evaluaciones)\n",
        "\n",
        "# que suma acá la función sum()?"
      ],
      "metadata": {
        "id": "r_BPk5hWapwV"
      },
      "execution_count": null,
      "outputs": []
    },
    {
      "cell_type": "markdown",
      "source": [
        "### Funciones de terceros\n",
        "\n",
        "En Python podemos **importar** funciones de terceros, para aportar distintas capacidades a nuestros programas. Hay infinidad de paquetes que proveen funciones en diferentes áreas. Acá algunos ejemplos solamente:"
      ],
      "metadata": {
        "id": "nMNC5tSPzqQI"
      }
    },
    {
      "cell_type": "code",
      "source": [
        "# Fechas\n",
        "import calendar \n",
        "# el año 2020 es bisiesto?\n",
        "calendar.isleap(2020) "
      ],
      "metadata": {
        "id": "WTs38Ecaz-EJ"
      },
      "execution_count": null,
      "outputs": []
    },
    {
      "cell_type": "code",
      "source": [
        "# Más fechas\n",
        "import datetime\n",
        "# https://docs.python.org/3/library/datetime.html\n",
        "\n",
        "# en que dia de la semana cayó el 12 de Diciembre de 1991?\n",
        "date = datetime.date(1991, 10, 12)\n",
        "f'{date} was on a {date:%A}'\n",
        "\n",
        "# para mas info sobre por que %A se usa para el dia de la semana, ver\n",
        "# strftime() and strptime() Format Codes en el link"
      ],
      "metadata": {
        "id": "fc37R5zA0N1n"
      },
      "execution_count": null,
      "outputs": []
    },
    {
      "cell_type": "code",
      "source": [
        "# Math\n",
        "import math \n",
        "# https://docs.python.org/3/library/math.html\n",
        "\n",
        "# importemos el valor del numero pi, con todos sus decimales!\n",
        "pi = math.pi\n",
        "radio = 3\n",
        "circ = 2 * pi * radio \n",
        "print(circ)\n",
        "\n",
        "\n"
      ],
      "metadata": {
        "id": "ysmGm3ef1Vzr"
      },
      "execution_count": null,
      "outputs": []
    }
  ]
}